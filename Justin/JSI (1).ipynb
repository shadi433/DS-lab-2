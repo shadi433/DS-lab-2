{
  "nbformat": 4,
  "nbformat_minor": 0,
  "metadata": {
    "colab": {
      "provenance": []
    },
    "kernelspec": {
      "name": "python3",
      "display_name": "Python 3"
    },
    "language_info": {
      "name": "python"
    },
    "gpuClass": "standard"
  },
  "cells": [
    {
      "cell_type": "code",
      "source": [
        "from google.colab import drive\n",
        "drive.mount('/content/drive')\n",
        "\n",
        "import sys\n",
        "sys.path.insert(0,'/content/drive/MyDrive/Hybrid')"
      ],
      "metadata": {
        "colab": {
          "base_uri": "https://localhost:8080/"
        },
        "id": "4R9vfxUmp-8K",
        "outputId": "0f3e71da-ad3e-470e-d253-8279fed9bc95"
      },
      "execution_count": 1,
      "outputs": [
        {
          "output_type": "stream",
          "name": "stdout",
          "text": [
            "Mounted at /content/drive\n"
          ]
        }
      ]
    },
    {
      "cell_type": "code",
      "source": [
        "from pso import *\n",
        "from gwo_algorithm import *\n",
        "#from bat import *\n",
        "from firefly_algorithm import *"
      ],
      "metadata": {
        "id": "Y1Q4F6squlOL"
      },
      "execution_count": 3,
      "outputs": []
    },
    {
      "cell_type": "code",
      "source": [
        "from __future__ import division\n",
        "from sklearn import svm\n",
        "from sklearn.datasets import load_digits\n",
        "from sklearn.model_selection import cross_val_score\n",
        "\n",
        "import random\n",
        "import numpy as np\n",
        "from matplotlib import pyplot as plt\n",
        "from matplotlib import animation\n",
        "import math"
      ],
      "metadata": {
        "id": "bIqet9NX19Hr"
      },
      "execution_count": 4,
      "outputs": []
    },
    {
      "cell_type": "code",
      "source": [
        "data = load_digits() "
      ],
      "metadata": {
        "id": "frZsKXw92Eb8"
      },
      "execution_count": 5,
      "outputs": []
    },
    {
      "cell_type": "code",
      "source": [
        "n_samples = len(data.images)\n",
        "X = data.images.reshape((n_samples, -1))\n",
        "Y = data['target']"
      ],
      "metadata": {
        "id": "zdomnxyI2GCM"
      },
      "execution_count": 6,
      "outputs": []
    },
    {
      "cell_type": "code",
      "source": [
        "# modle implementation\n",
        "def fitness_function1(x):  \n",
        "\tclf = svm.SVC(kernel='rbf', C=x[0], gamma=x[1], random_state=42)\n",
        "\tscores = cross_val_score(clf, X, Y, cv=5)\n",
        "\t\n",
        "\treturn scores.mean()  "
      ],
      "metadata": {
        "id": "sAARwvxH2Imk"
      },
      "execution_count": 7,
      "outputs": []
    },
    {
      "cell_type": "code",
      "source": [
        "def fitness_function2(x):\n",
        "\tpass\n",
        "\n",
        "def bubble_sort(fitness_values, population):\n",
        "    # sort population by ascending order of fitness values\n",
        "    for i in range(len(fitness_values)):\n",
        "        for j in range(0, len(fitness_values)-i-1):\n",
        "            if fitness_values[j] > fitness_values[j+1] :\n",
        "                fitness_values[j], fitness_values[j+1] = fitness_values[j+1], fitness_values[j]\n",
        "                population[j], population[j+1] = population[j+1], population[j]\n",
        "    return fitness_values, population"
      ],
      "metadata": {
        "id": "hw69IIXy8xRd"
      },
      "execution_count": 8,
      "outputs": []
    },
    {
      "cell_type": "code",
      "source": [
        "def clip_pop(pop, intervals):\n",
        "    # IF BOUND IS SPECIFIED THEN CLIP 'pop' VALUES SO THAT THEY ARE IN THE SPECIFIED RANGE\n",
        "    return [[random.uniform(lower_bound, upper_bound) if not lower_bound <= x <= upper_bound else x for x, (lower_bound, upper_bound) in zip(sublist, intervals)] for sublist in pop]"
      ],
      "metadata": {
        "id": "O4T_aHiFUGG2"
      },
      "execution_count": 9,
      "outputs": []
    },
    {
      "cell_type": "code",
      "source": [
        "class JSI:\n",
        "    \n",
        "    def __init__(self, **kwargs):\n",
        "        self.model = kwargs.get('model', 'svm')\n",
        "        self.parameters = kwargs.get('parameters', 2)\n",
        "        self.intervals = kwargs.get('intervals', [[1.0, 10.0], [0.0001, 0.1]])\n",
        "        self.max_iter = kwargs.get('max_iter', 10)\n",
        "        self.pop_size = kwargs.get('pop_size', 10)\n",
        "\n",
        "        if self.model == 'svm':\n",
        "            self.fitness_function = fitness_function1\n",
        "        elif self.model == 'decision tree':\n",
        "            self.fitness_function = fitness_function2\n",
        "\n",
        "        self.best_pop_from_all=[]\n",
        "        self.best_fit_from_all=[]\n",
        "        self.model_name=[]\n",
        "        self.n = len(self.intervals)\n",
        "\n",
        "        self.population = []\n",
        "        if self.intervals is not None:\n",
        "            for i in range(self.pop_size):\n",
        "                x = [random.uniform(interval[0], interval[1]) for interval in self.intervals]\n",
        "                self.population.append(x) # list of lists, for 2 dim: [[ , ], [ , ], [ , ],...,[ , ]]\n",
        "            self.population = clip_pop(self.population, self.intervals)\n",
        "        else:\n",
        "            print('Please determine the intervals for the paremeters')\n",
        "  \n",
        "    def run(self):\n",
        "        old_pop_bat = self.population.copy()\n",
        "        old_pop_firefly = self.population.copy()\n",
        "        old_pop_gwo = self.population.copy()\n",
        "        old_pop_pso = self.population.copy()\n",
        "\n",
        "\n",
        "        for i in range(self.max_iter):\n",
        "            print('iter:',i)\n",
        "            \n",
        "            #global_best_position, population, fitnesses = bat_algorithm(fitness_function=self.fitness_function,pop_size=self.pop_size, intervals=self.intervals, max_iter=self.max_iter, alpha= 0.5, gamma=0.5)\n",
        "            best_firefly, pop_firefly, fit_firefly =firefly_algorithm(fitness_function = self.fitness_function, population =old_pop_firefly, dimensions = self.intervals, max_iter = self.max_iter, alpha = 0.5, beta = 0.5, gamma = 0.5)\n",
        "            best, pop_GWO, fit_gwo = GWO(fitness_function = self.fitness_function, pop_size = self.pop_size, intervals = self.intervals, max_iter = self.max_iter)\n",
        "            best_position, pop_pso, fit_pso = PSO(fitness_function = self.fitness_function, population = old_pop_pso,intervals= self.intervals, max_iter = max, c1 = 1.5, c2  =1.5)\n",
        "\n",
        "\n",
        "            sorted_fit_firefly, pop_firefly = bubble_sort(fit_firefly, pop_firefly)\n",
        "            \n",
        "            sorted_fit_gwo, pop_GWO = bubble_sort(fit_gwo, pop_GWO)\n",
        "            \n",
        "            sorted_fit_pso, pop_pso = bubble_sort(fit_pso, pop_pso )\n",
        "\n",
        "\n",
        "            pop_firefly[self.pop_size-1] = pop_GWO[0].copy()\n",
        "            pop_firefly[self.pop_size-2] = pop_pso[0].copy()\n",
        "\n",
        "            pop_GWO[self.pop_size-1] = pop_firefly[0].copy()\n",
        "            pop_GWO[self.pop_size-2] = pop_pso[0].copy()\n",
        "\n",
        "            pop_pso[self.pop_size-1] = pop_firefly[0].copy()\n",
        "            pop_pso[self.pop_size-1] = pop_GWO[0].copy\n",
        "\n",
        "            \n",
        "            old_pop_firefly = pop_firefly\n",
        "            \n",
        "            old_pop_gwo = pop_GWO\n",
        "           \n",
        "            old_pop_pso = pop_pso\n",
        "        \n",
        "        # self.best_pop_from_all.append(new_pop_bat[0])\n",
        "        # self.best_fit_from_all.append(sorted_fit_bat[0])\n",
        "        # self.model_name.append('BAT')\n",
        "\n",
        "        self.best_pop_from_all.append(pop_firefly[0])\n",
        "        self.best_fit_from_all.append(sorted_fit_firefly[0])\n",
        "        self.model_name.append('Firefly')\n",
        "\n",
        "        self.best_pop_from_all.append(pop_GWO[0])\n",
        "        self.best_fit_from_all.append(sorted_fit_gwo[0])\n",
        "        self.model_name.append('GWO')\n",
        "\n",
        "        self.best_pop_from_all.append(pop_pso[0])\n",
        "        self.best_fit_from_all.append(sorted_fit_pso[0])\n",
        "        self.model_name.append('PSO')\n",
        "\n",
        "\n",
        "        \n",
        "\n",
        "    def best_all(self):\n",
        "\n",
        "        best = sorted(zip(self.best_pop_from_all, self.best_fit_from_all, self.model_name), key=lambda x: x[1], reverse=True)\n",
        "\n",
        "        return best[0][0], best[0][1], best[0][2]\n",
        "    "
      ],
      "metadata": {
        "id": "79IPU4Zu2Tac"
      },
      "execution_count": 56,
      "outputs": []
    },
    {
      "cell_type": "code",
      "source": [
        "model = JSI(max_iter=2, pop_size= 4)"
      ],
      "metadata": {
        "id": "FM2vl59z3YLz"
      },
      "execution_count": 57,
      "outputs": []
    },
    {
      "cell_type": "code",
      "source": [
        "model.run()"
      ],
      "metadata": {
        "colab": {
          "base_uri": "https://localhost:8080/",
          "height": 328
        },
        "id": "L6T-_uU54OAS",
        "outputId": "fb76bcaf-168f-45e5-e27b-20438c30bc7c"
      },
      "execution_count": 58,
      "outputs": [
        {
          "output_type": "stream",
          "name": "stdout",
          "text": [
            "iter: 0\n"
          ]
        },
        {
          "output_type": "error",
          "ename": "TypeError",
          "evalue": "ignored",
          "traceback": [
            "\u001b[0;31m---------------------------------------------------------------------------\u001b[0m",
            "\u001b[0;31mTypeError\u001b[0m                                 Traceback (most recent call last)",
            "\u001b[0;32m<ipython-input-58-640ff0f5af65>\u001b[0m in \u001b[0;36m<module>\u001b[0;34m\u001b[0m\n\u001b[0;32m----> 1\u001b[0;31m \u001b[0mmodel\u001b[0m\u001b[0;34m.\u001b[0m\u001b[0mrun\u001b[0m\u001b[0;34m(\u001b[0m\u001b[0;34m)\u001b[0m\u001b[0;34m\u001b[0m\u001b[0;34m\u001b[0m\u001b[0m\n\u001b[0m",
            "\u001b[0;32m<ipython-input-56-5b25be743802>\u001b[0m in \u001b[0;36mrun\u001b[0;34m(self)\u001b[0m\n\u001b[1;32m     40\u001b[0m             \u001b[0mbest_firefly\u001b[0m\u001b[0;34m,\u001b[0m \u001b[0mpop_firefly\u001b[0m\u001b[0;34m,\u001b[0m \u001b[0mfit_firefly\u001b[0m \u001b[0;34m=\u001b[0m\u001b[0mfirefly_algorithm\u001b[0m\u001b[0;34m(\u001b[0m\u001b[0mfitness_function\u001b[0m \u001b[0;34m=\u001b[0m \u001b[0mself\u001b[0m\u001b[0;34m.\u001b[0m\u001b[0mfitness_function\u001b[0m\u001b[0;34m,\u001b[0m \u001b[0mpopulation\u001b[0m \u001b[0;34m=\u001b[0m\u001b[0mold_pop_firefly\u001b[0m\u001b[0;34m,\u001b[0m \u001b[0mdimensions\u001b[0m \u001b[0;34m=\u001b[0m \u001b[0mself\u001b[0m\u001b[0;34m.\u001b[0m\u001b[0mintervals\u001b[0m\u001b[0;34m,\u001b[0m \u001b[0mmax_iter\u001b[0m \u001b[0;34m=\u001b[0m \u001b[0mself\u001b[0m\u001b[0;34m.\u001b[0m\u001b[0mmax_iter\u001b[0m\u001b[0;34m,\u001b[0m \u001b[0malpha\u001b[0m \u001b[0;34m=\u001b[0m \u001b[0;36m0.5\u001b[0m\u001b[0;34m,\u001b[0m \u001b[0mbeta\u001b[0m \u001b[0;34m=\u001b[0m \u001b[0;36m0.5\u001b[0m\u001b[0;34m,\u001b[0m \u001b[0mgamma\u001b[0m \u001b[0;34m=\u001b[0m \u001b[0;36m0.5\u001b[0m\u001b[0;34m)\u001b[0m\u001b[0;34m\u001b[0m\u001b[0;34m\u001b[0m\u001b[0m\n\u001b[1;32m     41\u001b[0m             \u001b[0mbest\u001b[0m\u001b[0;34m,\u001b[0m \u001b[0mpop_GWO\u001b[0m\u001b[0;34m,\u001b[0m \u001b[0mfit_pso\u001b[0m \u001b[0;34m=\u001b[0m \u001b[0mGWO\u001b[0m\u001b[0;34m(\u001b[0m\u001b[0mfitness_function\u001b[0m \u001b[0;34m=\u001b[0m \u001b[0mself\u001b[0m\u001b[0;34m.\u001b[0m\u001b[0mfitness_function\u001b[0m\u001b[0;34m,\u001b[0m \u001b[0mpop_size\u001b[0m \u001b[0;34m=\u001b[0m \u001b[0mself\u001b[0m\u001b[0;34m.\u001b[0m\u001b[0mpop_size\u001b[0m\u001b[0;34m,\u001b[0m \u001b[0mintervals\u001b[0m \u001b[0;34m=\u001b[0m \u001b[0mself\u001b[0m\u001b[0;34m.\u001b[0m\u001b[0mintervals\u001b[0m\u001b[0;34m,\u001b[0m \u001b[0mmax_iter\u001b[0m \u001b[0;34m=\u001b[0m \u001b[0mself\u001b[0m\u001b[0;34m.\u001b[0m\u001b[0mmax_iter\u001b[0m\u001b[0;34m)\u001b[0m\u001b[0;34m\u001b[0m\u001b[0;34m\u001b[0m\u001b[0m\n\u001b[0;32m---> 42\u001b[0;31m             \u001b[0mbest_position\u001b[0m\u001b[0;34m,\u001b[0m \u001b[0mpop_pso\u001b[0m\u001b[0;34m,\u001b[0m \u001b[0mfit_gwo\u001b[0m \u001b[0;34m=\u001b[0m \u001b[0mPSO\u001b[0m\u001b[0;34m(\u001b[0m\u001b[0mfitness_function\u001b[0m \u001b[0;34m=\u001b[0m \u001b[0mself\u001b[0m\u001b[0;34m.\u001b[0m\u001b[0mfitness_function\u001b[0m\u001b[0;34m,\u001b[0m \u001b[0mpopulation\u001b[0m \u001b[0;34m=\u001b[0m \u001b[0mold_pop_pso\u001b[0m\u001b[0;34m,\u001b[0m\u001b[0mintervals\u001b[0m\u001b[0;34m=\u001b[0m \u001b[0mself\u001b[0m\u001b[0;34m.\u001b[0m\u001b[0mintervals\u001b[0m\u001b[0;34m,\u001b[0m \u001b[0mmax_iter\u001b[0m \u001b[0;34m=\u001b[0m \u001b[0mmax\u001b[0m\u001b[0;34m,\u001b[0m \u001b[0mc1\u001b[0m \u001b[0;34m=\u001b[0m \u001b[0;36m1.5\u001b[0m\u001b[0;34m,\u001b[0m \u001b[0mc2\u001b[0m  \u001b[0;34m=\u001b[0m\u001b[0;36m1.5\u001b[0m\u001b[0;34m)\u001b[0m\u001b[0;34m\u001b[0m\u001b[0;34m\u001b[0m\u001b[0m\n\u001b[0m\u001b[1;32m     43\u001b[0m \u001b[0;34m\u001b[0m\u001b[0m\n\u001b[1;32m     44\u001b[0m \u001b[0;34m\u001b[0m\u001b[0m\n",
            "\u001b[0;32m/content/drive/MyDrive/Hybrid/pso.py\u001b[0m in \u001b[0;36mPSO\u001b[0;34m(fitness_function, population, intervals, max_iter, c1, c2)\u001b[0m\n\u001b[1;32m     42\u001b[0m \u001b[0;34m\u001b[0m\u001b[0m\n\u001b[1;32m     43\u001b[0m     \u001b[0;31m# Iterate over the maximum number of iterations\u001b[0m\u001b[0;34m\u001b[0m\u001b[0;34m\u001b[0m\u001b[0;34m\u001b[0m\u001b[0m\n\u001b[0;32m---> 44\u001b[0;31m     \u001b[0;32mfor\u001b[0m \u001b[0m_\u001b[0m \u001b[0;32min\u001b[0m \u001b[0mrange\u001b[0m\u001b[0;34m(\u001b[0m\u001b[0mmax_iter\u001b[0m\u001b[0;34m)\u001b[0m\u001b[0;34m:\u001b[0m\u001b[0;34m\u001b[0m\u001b[0;34m\u001b[0m\u001b[0m\n\u001b[0m\u001b[1;32m     45\u001b[0m         \u001b[0;31m# Calculate the fitness of each particle\u001b[0m\u001b[0;34m\u001b[0m\u001b[0;34m\u001b[0m\u001b[0;34m\u001b[0m\u001b[0m\n\u001b[1;32m     46\u001b[0m         \u001b[0mfitnesses\u001b[0m \u001b[0;34m=\u001b[0m \u001b[0;34m[\u001b[0m\u001b[0mfitness\u001b[0m\u001b[0;34m(\u001b[0m\u001b[0mparticle\u001b[0m\u001b[0;34m,\u001b[0m \u001b[0mfitness_function\u001b[0m\u001b[0;34m)\u001b[0m \u001b[0;32mfor\u001b[0m \u001b[0mparticle\u001b[0m \u001b[0;32min\u001b[0m \u001b[0mpopulation\u001b[0m\u001b[0;34m]\u001b[0m\u001b[0;34m\u001b[0m\u001b[0;34m\u001b[0m\u001b[0m\n",
            "\u001b[0;31mTypeError\u001b[0m: 'builtin_function_or_method' object cannot be interpreted as an integer"
          ]
        }
      ]
    },
    {
      "cell_type": "code",
      "source": [
        "best_para, best_score, best_model = model.best_all()\n",
        "print(f'best parameters:{best_para}, best score:{best_score}, best_model:{best_model}')"
      ],
      "metadata": {
        "id": "xkY2H7d24Q2Z"
      },
      "execution_count": null,
      "outputs": []
    }
  ]
}