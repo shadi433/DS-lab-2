{
 "cells": [
  {
   "cell_type": "code",
   "execution_count": 73,
   "metadata": {},
   "outputs": [],
   "source": [
    "import pandas as pd\n",
    "import numpy as np\n",
    "import random\n",
    "from sklearn.datasets import load_digits\n",
    "from sklearn.svm import SVC\n",
    "from sklearn.model_selection import cross_val_score"
   ]
  },
  {
   "cell_type": "code",
   "execution_count": 74,
   "metadata": {},
   "outputs": [],
   "source": [
    "from abc_opt import ABC\n",
    "from de import DE\n",
    "from gso import GSO\n",
    "from fss_opt import FSS\n",
    "from params import *"
   ]
  },
  {
   "cell_type": "code",
   "execution_count": 75,
   "metadata": {},
   "outputs": [],
   "source": [
    "#bounds\n",
    "bounds = {\"C\": [0.001, 10.0], \"gamma\": [0.0001, 0.1]}\n",
    "\n",
    "#population size\n",
    "n_pop = 10\n",
    "\n",
    "#maximum iteration\n",
    "cycles = 10"
   ]
  },
  {
   "cell_type": "code",
   "execution_count": 76,
   "metadata": {},
   "outputs": [],
   "source": [
    "data = load_digits()\n",
    "n_samples = len(data.images)\n",
    "X = data.images.reshape((n_samples, -1))\n",
    "Y = data['target']\n",
    "\n",
    "def fitness_function(x):\n",
    "  # clf = SVC(kernel='rbf', C=x[0], gamma=x[1], random_state=42)\n",
    "  scores = cross_val_score(SVC(kernel='rbf', C=x[0], gamma=x[1]), X, Y, cv=5)\n",
    "\n",
    "  return scores.mean()"
   ]
  },
  {
   "cell_type": "code",
   "execution_count": 77,
   "metadata": {},
   "outputs": [],
   "source": [
    "import params"
   ]
  },
  {
   "cell_type": "code",
   "execution_count": 86,
   "metadata": {},
   "outputs": [],
   "source": [
    "class swarm:\n",
    "    def __init__(self, bounds, n_pop, fitness_function, params):\n",
    "        self.bounds = bounds\n",
    "        self.n_pop = n_pop\n",
    "        self.fitness_function = fitness_function\n",
    "        self.population = self.get_population()\n",
    "        self.params = params\n",
    "    \n",
    "    def get_population(self):\n",
    "        self.pop_dict = self.init_pop()\n",
    "        self.pop = pd.DataFrame.from_dict(self.pop_dict)\n",
    "        #calculating the Fit of the initialised population (employed bees)\n",
    "        self.pop['Fit'] = [self.fitness_function(x) for x in list(zip(*self.pop_dict.values()))]\n",
    "        self.population = self.pop.copy()\n",
    "        return self.population\n",
    "    \n",
    "    def init_pop(self):\n",
    "        pop_dict = dict()\n",
    "        for i in range(self.n_pop):\n",
    "            for key in self.bounds.keys():\n",
    "                if i == 0:\n",
    "                    pop_dict[key] = [self.bounds[key][0] + random.uniform(0,1)*(self.bounds[key][-1] - self.bounds[key][0])]\n",
    "                else:\n",
    "                    pop_dict[key].append(self.bounds[key][0] + random.uniform(0,1)*(self.bounds[key][-1] - self.bounds[key][0]))\n",
    "        return pop_dict\n",
    "    \n",
    "    \n",
    "    def generation_rnd(self, alg):\n",
    "        l = [self.abc_rnd, self.de_rnd, self.g_rnd, self.fss_rnd]\n",
    "        l.remove(alg)\n",
    "        \n",
    "        new_pop = alg.population.copy()\n",
    "        indexes = random.choices(list(new_pop.index), k=random.randint(1, len(new_pop)-1))\n",
    "        \n",
    "        for i in indexes:\n",
    "            rep = l[random.randint(0, len(l)-1)].population\n",
    "            new_pop.loc[i, self.bounds.keys()] = rep.loc[random.randint(0, len(rep)-1), self.bounds.keys()]\n",
    "            new_pop.loc[i, 'Fit'] = self.fitness_function(new_pop[self.bounds.keys()].values[i])\n",
    "        \n",
    "        return new_pop\n",
    "    \n",
    "    def generation_best(self, alg):\n",
    "        l = [self.abc_best, self.de_best, self.g_best, self.fss_best]\n",
    "        l.remove(alg)\n",
    "        \n",
    "        new_pop = alg.population.copy()\n",
    "        \n",
    "        for i in l:\n",
    "            new_pop.loc[new_pop['Fit'].idxmin(), self.bounds.keys()] = i.population.loc[i.population['Fit'].idxmax()][self.bounds.keys()]\n",
    "            new_pop.loc[new_pop['Fit'].idxmin(), 'Fit'] = self.fitness_function(new_pop[self.bounds.keys()].values[new_pop['Fit'].idxmin()])\n",
    "        return new_pop\n",
    "    \n",
    "    \n",
    "    def run(self):\n",
    "        p = self.population.copy()\n",
    "        #first iteration\n",
    "        abc = ABC(self.bounds, self.n_pop, 10, self.fitness_function, p)\n",
    "        abc()\n",
    "\n",
    "        de = DE(self.params.cr, self.bounds, self.n_pop, 10, self.fitness_function, p)\n",
    "        de()\n",
    "\n",
    "        g = GSO(self.params.rho, self.params.gamma, self.params.s, self.params.rs, self.params.r0, self.params.betta, self.params.l0, self.bounds, self.n_pop, 10, self.fitness_function, p)\n",
    "        g()\n",
    "\n",
    "        fss = FSS(self.params.Sinit, self.params.Sfinal, self.bounds, self.n_pop, 10, self.fitness_function, p)\n",
    "        fss()\n",
    "        \n",
    "        #the first proposed approach\n",
    "        self.abc_rnd = copy(abc)\n",
    "        self.de_rnd = copy(de)\n",
    "        self.g_rnd = copy(g)\n",
    "        self.fss_rnd = copy(fss)\n",
    "        \n",
    "        # f.append((\"f\",)+ l)\n",
    "        self.best_para_rnd = []\n",
    "        for i in range(2):\n",
    "            self.abc_rnd = ABC(self.bounds, self.n_pop, 1, self.fitness_function, self.generation_rnd(self.abc_rnd))\n",
    "            self.best_para_rnd.append((\"abc\",)+ self.abc_rnd())\n",
    "            self.de_rnd = DE(self.params.cr, self.bounds, self.n_pop, 1, self.fitness_function, self.generation_rnd(self.de_rnd))\n",
    "            self.best_para_rnd.append((\"de\",)+ self.de_rnd())\n",
    "            self.g_rnd = GSO(self.params.rho, self.params.gamma, self.params.s, self.params.rs, self.params.r0, self.params.betta, self.params.l0, self.bounds, self.n_pop, 1, self.fitness_function, self.generation_rnd(self.g_rnd))\n",
    "            self.best_para_rnd.append((\"gso\",)+ self.g_rnd())\n",
    "            self.fss_rnd = FSS(self.params.Sinit, self.params.Sfinal, self.bounds, self.n_pop, 1, self.fitness_function, self.generation_rnd(self.fss_rnd))\n",
    "            self.best_para_rnd.append((\"fss\",)+ self.fss_rnd())\n",
    "            \n",
    "        #the second proposed approach\n",
    "        self.abc_best = copy(abc)\n",
    "        self.de_best = copy(de)\n",
    "        self.g_best = copy(g)\n",
    "        self.fss_best = copy(fss)\n",
    "        \n",
    "        self.best_para = []\n",
    "        for i in range(2):\n",
    "            self.abc_best = ABC(self.bounds, self.n_pop, 1, self.fitness_function, self.generation_best(self.abc_best))\n",
    "            self.best_para.append((\"abc\",)+ self.abc_best())\n",
    "            self.de_best = DE(self.params.cr, self.bounds, self.n_pop, 1, self.fitness_function, self.generation_best(self.de_best))\n",
    "            self.best_para.append((\"de\",)+ self.de_best())\n",
    "            self.g_best = GSO(self.params.rho, self.params.gamma, self.params.s, self.params.rs, self.params.r0, self.params.betta, self.params.l0, self.bounds, self.n_pop, 1, self.fitness_function, self.generation_best(self.g_best))\n",
    "            self.best_para.append((\"gso\",)+ self.g_best())\n",
    "            self.fss_best = FSS(Sinit, Sfinal, self.bounds, self.n_pop, 1, self.fitness_function, self.generation_best(self.fss_best))\n",
    "            self.best_para.append((\"fss\",)+ self.fss_best())\n",
    "            \n",
    "    def best_all(self):\n",
    "        print(\"best parameters and fitness according to the approach: \")\n",
    "        print(\"replace random elements by other algorithms random elements: \")\n",
    "        mr, bpr, bfr = sorted(\n",
    "            self.best_para_rnd, \n",
    "            key=lambda x: x[2]\n",
    "        )[-1]  \n",
    "        print('model: ', mr, 'best parameters: ', bpr, 'best fitness: ', bfr)      \n",
    "        \n",
    "        print(\"replace worst elements by other algorithms best elements: \")\n",
    "        m, bp, bf = sorted(\n",
    "            self.best_para, \n",
    "            key=lambda x: x[2]\n",
    "        )[-1]  \n",
    "        print('model: ', m, 'best parameters: ', bp, 'best fitness: ', bf)  "
   ]
  },
  {
   "cell_type": "code",
   "execution_count": 87,
   "metadata": {},
   "outputs": [],
   "source": [
    "s = swarm(bounds, n_pop, fitness_function, params)"
   ]
  },
  {
   "cell_type": "code",
   "execution_count": 88,
   "metadata": {},
   "outputs": [],
   "source": [
    "s.run()"
   ]
  },
  {
   "cell_type": "code",
   "execution_count": 89,
   "metadata": {},
   "outputs": [
    {
     "name": "stdout",
     "output_type": "stream",
     "text": [
      "best parameters and fitness according to the approach: \n",
      "replace random elements by other algorithms random elements: \n",
      "model:  de best parameters:  [{'C': 8.139800236900912}, {'gamma': 0.0004669004348511291}] best fitness:  0.9755184153512845\n",
      "replace worst elements by other algorithms best elements: \n",
      "model:  fss best parameters:  [{'C': 7.437905578150202}, {'gamma': 0.0006035653308706366}] best fitness:  0.9749628597957288\n"
     ]
    }
   ],
   "source": [
    "s.best_all()"
   ]
  },
  {
   "cell_type": "code",
   "execution_count": null,
   "metadata": {},
   "outputs": [],
   "source": []
  }
 ],
 "metadata": {
  "kernelspec": {
   "display_name": "base",
   "language": "python",
   "name": "python3"
  },
  "language_info": {
   "codemirror_mode": {
    "name": "ipython",
    "version": 3
   },
   "file_extension": ".py",
   "mimetype": "text/x-python",
   "name": "python",
   "nbconvert_exporter": "python",
   "pygments_lexer": "ipython3",
   "version": "3.8.5"
  },
  "orig_nbformat": 4,
  "vscode": {
   "interpreter": {
    "hash": "ad2bdc8ecc057115af97d19610ffacc2b4e99fae6737bb82f5d7fb13d2f2c186"
   }
  }
 },
 "nbformat": 4,
 "nbformat_minor": 2
}
